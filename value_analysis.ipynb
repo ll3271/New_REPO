{
 "cells": [
  {
   "cell_type": "code",
   "execution_count": 1,
   "metadata": {},
   "outputs": [],
   "source": [
    "import matplotlib.pyplot as plt\n",
    "import pandas as pd\n",
    "import numpy as np\n",
    "import seaborn as sns\n",
    "import requests\n",
    "import time\n",
    "import seaborn as sns\n",
    "import numpy as np\n",
    "from scipy.stats import norm\n",
    "from sklearn.preprocessing import StandardScaler\n",
    "from scipy import stats\n",
    "import exp"
   ]
  },
  {
   "cell_type": "code",
   "execution_count": 2,
   "metadata": {},
   "outputs": [
    {
     "data": {
      "text/html": [
       "<div>\n",
       "<style scoped>\n",
       "    .dataframe tbody tr th:only-of-type {\n",
       "        vertical-align: middle;\n",
       "    }\n",
       "\n",
       "    .dataframe tbody tr th {\n",
       "        vertical-align: top;\n",
       "    }\n",
       "\n",
       "    .dataframe thead th {\n",
       "        text-align: right;\n",
       "    }\n",
       "</style>\n",
       "<table border=\"1\" class=\"dataframe\">\n",
       "  <thead>\n",
       "    <tr style=\"text-align: right;\">\n",
       "      <th></th>\n",
       "      <th>building_class_category</th>\n",
       "      <th>sale_price</th>\n",
       "      <th>gross_sqft</th>\n",
       "      <th>year_of_sale</th>\n",
       "      <th>year_built</th>\n",
       "      <th>ZipCode</th>\n",
       "      <th>neighborhood</th>\n",
       "      <th>residential_units</th>\n",
       "      <th>SchoolDist</th>\n",
       "      <th>BldgClass</th>\n",
       "      <th>YearAlter1</th>\n",
       "      <th>YearAlter2</th>\n",
       "      <th>LotArea</th>\n",
       "      <th>ResArea</th>\n",
       "      <th>UnitsRes</th>\n",
       "      <th>NumFloors</th>\n",
       "      <th>SP/Sq_ft</th>\n",
       "    </tr>\n",
       "  </thead>\n",
       "  <tbody>\n",
       "    <tr>\n",
       "      <td>0</td>\n",
       "      <td>01 ONE FAMILY HOMES</td>\n",
       "      <td>2950000.0</td>\n",
       "      <td>1692.0</td>\n",
       "      <td>2017</td>\n",
       "      <td>2014</td>\n",
       "      <td>11249.0</td>\n",
       "      <td>WILLIAMSBURG-SOUTH</td>\n",
       "      <td>1</td>\n",
       "      <td>14.0</td>\n",
       "      <td>A5</td>\n",
       "      <td>2013.0</td>\n",
       "      <td>0.0</td>\n",
       "      <td>1279.0</td>\n",
       "      <td>1692.0</td>\n",
       "      <td>1.0</td>\n",
       "      <td>3.0</td>\n",
       "      <td>1743.498818</td>\n",
       "    </tr>\n",
       "    <tr>\n",
       "      <td>1</td>\n",
       "      <td>01 ONE FAMILY HOMES</td>\n",
       "      <td>2930000.0</td>\n",
       "      <td>1476.0</td>\n",
       "      <td>2016</td>\n",
       "      <td>1920</td>\n",
       "      <td>11209.0</td>\n",
       "      <td>BAY RIDGE</td>\n",
       "      <td>1</td>\n",
       "      <td>20.0</td>\n",
       "      <td>A3</td>\n",
       "      <td>0.0</td>\n",
       "      <td>0.0</td>\n",
       "      <td>7000.0</td>\n",
       "      <td>1476.0</td>\n",
       "      <td>1.0</td>\n",
       "      <td>2.0</td>\n",
       "      <td>1985.094851</td>\n",
       "    </tr>\n",
       "    <tr>\n",
       "      <td>2</td>\n",
       "      <td>01 ONE FAMILY HOMES</td>\n",
       "      <td>2900000.0</td>\n",
       "      <td>1152.0</td>\n",
       "      <td>2016</td>\n",
       "      <td>1920</td>\n",
       "      <td>11211.0</td>\n",
       "      <td>WILLIAMSBURG-EAST</td>\n",
       "      <td>1</td>\n",
       "      <td>14.0</td>\n",
       "      <td>A5</td>\n",
       "      <td>2006.0</td>\n",
       "      <td>0.0</td>\n",
       "      <td>2500.0</td>\n",
       "      <td>1152.0</td>\n",
       "      <td>1.0</td>\n",
       "      <td>3.0</td>\n",
       "      <td>2517.361111</td>\n",
       "    </tr>\n",
       "    <tr>\n",
       "      <td>3</td>\n",
       "      <td>01 ONE FAMILY HOMES</td>\n",
       "      <td>2800187.0</td>\n",
       "      <td>2733.0</td>\n",
       "      <td>2017</td>\n",
       "      <td>2016</td>\n",
       "      <td>11231.0</td>\n",
       "      <td>RED HOOK</td>\n",
       "      <td>1</td>\n",
       "      <td>15.0</td>\n",
       "      <td>A5</td>\n",
       "      <td>0.0</td>\n",
       "      <td>0.0</td>\n",
       "      <td>1752.0</td>\n",
       "      <td>2733.0</td>\n",
       "      <td>1.0</td>\n",
       "      <td>3.0</td>\n",
       "      <td>1024.583608</td>\n",
       "    </tr>\n",
       "    <tr>\n",
       "      <td>4</td>\n",
       "      <td>01 ONE FAMILY HOMES</td>\n",
       "      <td>2755000.0</td>\n",
       "      <td>2500.0</td>\n",
       "      <td>2017</td>\n",
       "      <td>1901</td>\n",
       "      <td>11215.0</td>\n",
       "      <td>SUNSET PARK</td>\n",
       "      <td>1</td>\n",
       "      <td>15.0</td>\n",
       "      <td>A5</td>\n",
       "      <td>2015.0</td>\n",
       "      <td>0.0</td>\n",
       "      <td>2504.0</td>\n",
       "      <td>2500.0</td>\n",
       "      <td>1.0</td>\n",
       "      <td>3.0</td>\n",
       "      <td>1102.000000</td>\n",
       "    </tr>\n",
       "  </tbody>\n",
       "</table>\n",
       "</div>"
      ],
      "text/plain": [
       "  building_class_category  sale_price  gross_sqft  year_of_sale  year_built  \\\n",
       "0     01 ONE FAMILY HOMES   2950000.0      1692.0          2017        2014   \n",
       "1     01 ONE FAMILY HOMES   2930000.0      1476.0          2016        1920   \n",
       "2     01 ONE FAMILY HOMES   2900000.0      1152.0          2016        1920   \n",
       "3     01 ONE FAMILY HOMES   2800187.0      2733.0          2017        2016   \n",
       "4     01 ONE FAMILY HOMES   2755000.0      2500.0          2017        1901   \n",
       "\n",
       "   ZipCode        neighborhood  residential_units  SchoolDist BldgClass  \\\n",
       "0  11249.0  WILLIAMSBURG-SOUTH                  1        14.0        A5   \n",
       "1  11209.0           BAY RIDGE                  1        20.0        A3   \n",
       "2  11211.0   WILLIAMSBURG-EAST                  1        14.0        A5   \n",
       "3  11231.0            RED HOOK                  1        15.0        A5   \n",
       "4  11215.0         SUNSET PARK                  1        15.0        A5   \n",
       "\n",
       "   YearAlter1  YearAlter2  LotArea  ResArea  UnitsRes  NumFloors     SP/Sq_ft  \n",
       "0      2013.0         0.0   1279.0   1692.0       1.0        3.0  1743.498818  \n",
       "1         0.0         0.0   7000.0   1476.0       1.0        2.0  1985.094851  \n",
       "2      2006.0         0.0   2500.0   1152.0       1.0        3.0  2517.361111  \n",
       "3         0.0         0.0   1752.0   2733.0       1.0        3.0  1024.583608  \n",
       "4      2015.0         0.0   2504.0   2500.0       1.0        3.0  1102.000000  "
      ]
     },
     "execution_count": 2,
     "metadata": {},
     "output_type": "execute_result"
    }
   ],
   "source": [
    "file = \"bk_one_fam.csv\"\n",
    "one_fam_3years = pd.read_csv(file)\n",
    "one_fam_3years = one_fam_3years.drop(columns=['Unnamed: 0', 'Unnamed: 0.1' ])\n",
    "one_fam_3years.head()\n"
   ]
  },
  {
   "cell_type": "code",
   "execution_count": 14,
   "metadata": {},
   "outputs": [
    {
     "data": {
      "text/html": [
       "<div>\n",
       "<style scoped>\n",
       "    .dataframe tbody tr th:only-of-type {\n",
       "        vertical-align: middle;\n",
       "    }\n",
       "\n",
       "    .dataframe tbody tr th {\n",
       "        vertical-align: top;\n",
       "    }\n",
       "\n",
       "    .dataframe thead th {\n",
       "        text-align: right;\n",
       "    }\n",
       "</style>\n",
       "<table border=\"1\" class=\"dataframe\">\n",
       "  <thead>\n",
       "    <tr style=\"text-align: right;\">\n",
       "      <th></th>\n",
       "      <th>neighborhood</th>\n",
       "      <th>year_of_sale</th>\n",
       "      <th>SchoolDist</th>\n",
       "      <th>SP/Sq_ft</th>\n",
       "    </tr>\n",
       "  </thead>\n",
       "  <tbody>\n",
       "    <tr>\n",
       "      <td>0</td>\n",
       "      <td>WILLIAMSBURG-SOUTH</td>\n",
       "      <td>2017</td>\n",
       "      <td>14.0</td>\n",
       "      <td>1743.498818</td>\n",
       "    </tr>\n",
       "    <tr>\n",
       "      <td>1</td>\n",
       "      <td>BAY RIDGE</td>\n",
       "      <td>2016</td>\n",
       "      <td>20.0</td>\n",
       "      <td>1985.094851</td>\n",
       "    </tr>\n",
       "    <tr>\n",
       "      <td>2</td>\n",
       "      <td>WILLIAMSBURG-EAST</td>\n",
       "      <td>2016</td>\n",
       "      <td>14.0</td>\n",
       "      <td>2517.361111</td>\n",
       "    </tr>\n",
       "    <tr>\n",
       "      <td>3</td>\n",
       "      <td>RED HOOK</td>\n",
       "      <td>2017</td>\n",
       "      <td>15.0</td>\n",
       "      <td>1024.583608</td>\n",
       "    </tr>\n",
       "    <tr>\n",
       "      <td>4</td>\n",
       "      <td>SUNSET PARK</td>\n",
       "      <td>2017</td>\n",
       "      <td>15.0</td>\n",
       "      <td>1102.000000</td>\n",
       "    </tr>\n",
       "  </tbody>\n",
       "</table>\n",
       "</div>"
      ],
      "text/plain": [
       "         neighborhood  year_of_sale  SchoolDist     SP/Sq_ft\n",
       "0  WILLIAMSBURG-SOUTH          2017        14.0  1743.498818\n",
       "1           BAY RIDGE          2016        20.0  1985.094851\n",
       "2   WILLIAMSBURG-EAST          2016        14.0  2517.361111\n",
       "3            RED HOOK          2017        15.0  1024.583608\n",
       "4         SUNSET PARK          2017        15.0  1102.000000"
      ]
     },
     "execution_count": 14,
     "metadata": {},
     "output_type": "execute_result"
    }
   ],
   "source": [
    "one_fam_3years_brief = one_fam_3years[['neighborhood','year_of_sale','SchoolDist','SP/Sq_ft']]\n",
    "one_fam_3years_brief.head()"
   ]
  },
  {
   "cell_type": "code",
   "execution_count": 17,
   "metadata": {},
   "outputs": [
    {
     "data": {
      "text/html": [
       "<div>\n",
       "<style scoped>\n",
       "    .dataframe tbody tr th:only-of-type {\n",
       "        vertical-align: middle;\n",
       "    }\n",
       "\n",
       "    .dataframe tbody tr th {\n",
       "        vertical-align: top;\n",
       "    }\n",
       "\n",
       "    .dataframe thead th {\n",
       "        text-align: right;\n",
       "    }\n",
       "</style>\n",
       "<table border=\"1\" class=\"dataframe\">\n",
       "  <thead>\n",
       "    <tr style=\"text-align: right;\">\n",
       "      <th></th>\n",
       "      <th>neighborhood</th>\n",
       "      <th>year_of_sale</th>\n",
       "      <th>SchoolDist</th>\n",
       "      <th>SP/Sq_ft</th>\n",
       "    </tr>\n",
       "  </thead>\n",
       "  <tbody>\n",
       "    <tr>\n",
       "      <td>0</td>\n",
       "      <td>WILLIAMSBURG-SOUTH</td>\n",
       "      <td>2017</td>\n",
       "      <td>14.0</td>\n",
       "      <td>1743.498818</td>\n",
       "    </tr>\n",
       "    <tr>\n",
       "      <td>3</td>\n",
       "      <td>RED HOOK</td>\n",
       "      <td>2017</td>\n",
       "      <td>15.0</td>\n",
       "      <td>1024.583608</td>\n",
       "    </tr>\n",
       "    <tr>\n",
       "      <td>4</td>\n",
       "      <td>SUNSET PARK</td>\n",
       "      <td>2017</td>\n",
       "      <td>15.0</td>\n",
       "      <td>1102.000000</td>\n",
       "    </tr>\n",
       "    <tr>\n",
       "      <td>7</td>\n",
       "      <td>OCEAN PARKWAY-SOUTH</td>\n",
       "      <td>2017</td>\n",
       "      <td>21.0</td>\n",
       "      <td>1701.732673</td>\n",
       "    </tr>\n",
       "    <tr>\n",
       "      <td>8</td>\n",
       "      <td>RED HOOK</td>\n",
       "      <td>2017</td>\n",
       "      <td>15.0</td>\n",
       "      <td>1038.095238</td>\n",
       "    </tr>\n",
       "  </tbody>\n",
       "</table>\n",
       "</div>"
      ],
      "text/plain": [
       "          neighborhood  year_of_sale  SchoolDist     SP/Sq_ft\n",
       "0   WILLIAMSBURG-SOUTH          2017        14.0  1743.498818\n",
       "3             RED HOOK          2017        15.0  1024.583608\n",
       "4          SUNSET PARK          2017        15.0  1102.000000\n",
       "7  OCEAN PARKWAY-SOUTH          2017        21.0  1701.732673\n",
       "8             RED HOOK          2017        15.0  1038.095238"
      ]
     },
     "execution_count": 17,
     "metadata": {},
     "output_type": "execute_result"
    }
   ],
   "source": [
    "one_fam_1year = one_fam_3years_brief.loc[ (one_fam_3years_brief['year_of_sale'] == 2017 )]\n",
    "one_fam_1year.head()"
   ]
  },
  {
   "cell_type": "code",
   "execution_count": 110,
   "metadata": {},
   "outputs": [
    {
     "data": {
      "text/plain": [
       "654.4425071123727"
      ]
     },
     "execution_count": 110,
     "metadata": {},
     "output_type": "execute_result"
    }
   ],
   "source": [
    "dist20 = one_fam_1year.loc[one_fam_1year['SchoolDist']==20.0]\n",
    "dist20_mean = dist20['SP/Sq_ft'].mean()\n",
    "dist20_mean\n"
   ]
  },
  {
   "cell_type": "code",
   "execution_count": 111,
   "metadata": {},
   "outputs": [
    {
     "data": {
      "text/plain": [
       "981.8051291151872"
      ]
     },
     "execution_count": 111,
     "metadata": {},
     "output_type": "execute_result"
    }
   ],
   "source": [
    "dist15 = one_fam_1year.loc[one_fam_1year['SchoolDist']==15.0]\n",
    "dist15_mean = dist15['SP/Sq_ft'].mean()\n",
    "dist15_mean\n"
   ]
  },
  {
   "cell_type": "code",
   "execution_count": 112,
   "metadata": {},
   "outputs": [
    {
     "data": {
      "text/plain": [
       "478.3455411381048"
      ]
     },
     "execution_count": 112,
     "metadata": {},
     "output_type": "execute_result"
    }
   ],
   "source": [
    "dist22 = one_fam_1year.loc[one_fam_1year['SchoolDist']==22.0]\n",
    "dist22_mean = dist22['SP/Sq_ft'].mean()\n",
    "dist22_mean"
   ]
  },
  {
   "cell_type": "code",
   "execution_count": 113,
   "metadata": {},
   "outputs": [
    {
     "data": {
      "text/plain": [
       "612.8648619562708"
      ]
     },
     "execution_count": 113,
     "metadata": {},
     "output_type": "execute_result"
    }
   ],
   "source": [
    "dist21 = one_fam_1year.loc[one_fam_1year['SchoolDist']==21.0]\n",
    "dist21_mean = dist21['SP/Sq_ft'].mean()\n",
    "dist21_mean"
   ]
  },
  {
   "cell_type": "code",
   "execution_count": 114,
   "metadata": {},
   "outputs": [
    {
     "data": {
      "text/plain": [
       "557.7656966106537"
      ]
     },
     "execution_count": 114,
     "metadata": {},
     "output_type": "execute_result"
    }
   ],
   "source": [
    "dist17 = one_fam_1year.loc[one_fam_1year['SchoolDist']==17.0]\n",
    "dist17_mean = dist17['SP/Sq_ft'].mean()\n",
    "dist17_mean"
   ]
  },
  {
   "cell_type": "code",
   "execution_count": 115,
   "metadata": {},
   "outputs": [
    {
     "data": {
      "text/plain": [
       "735.504079951184"
      ]
     },
     "execution_count": 115,
     "metadata": {},
     "output_type": "execute_result"
    }
   ],
   "source": [
    "dist32 = one_fam_1year.loc[one_fam_1year['SchoolDist']==32.0]\n",
    "dist32_mean = dist32['SP/Sq_ft'].mean()\n",
    "dist32_mean"
   ]
  },
  {
   "cell_type": "code",
   "execution_count": 116,
   "metadata": {},
   "outputs": [
    {
     "data": {
      "text/plain": [
       "1375.7784990790633"
      ]
     },
     "execution_count": 116,
     "metadata": {},
     "output_type": "execute_result"
    }
   ],
   "source": [
    "dist14 = one_fam_1year.loc[one_fam_1year['SchoolDist']==14.0]\n",
    "dist14_mean = dist14['SP/Sq_ft'].mean()\n",
    "dist14_mean"
   ]
  },
  {
   "cell_type": "code",
   "execution_count": 117,
   "metadata": {},
   "outputs": [
    {
     "data": {
      "text/plain": [
       "775.3145805942805"
      ]
     },
     "execution_count": 117,
     "metadata": {},
     "output_type": "execute_result"
    }
   ],
   "source": [
    "dist13 = one_fam_1year.loc[one_fam_1year['SchoolDist']==13.0]\n",
    "dist13_mean = dist13['SP/Sq_ft'].mean()\n",
    "dist13_mean"
   ]
  },
  {
   "cell_type": "code",
   "execution_count": 118,
   "metadata": {},
   "outputs": [
    {
     "data": {
      "text/plain": [
       "354.94731730842614"
      ]
     },
     "execution_count": 118,
     "metadata": {},
     "output_type": "execute_result"
    }
   ],
   "source": [
    "dist18 = one_fam_1year.loc[one_fam_1year['SchoolDist']==18.0]\n",
    "dist18_mean = dist18['SP/Sq_ft'].mean()\n",
    "dist18_mean"
   ]
  },
  {
   "cell_type": "code",
   "execution_count": 119,
   "metadata": {},
   "outputs": [
    {
     "data": {
      "text/plain": [
       "290.76231305975233"
      ]
     },
     "execution_count": 119,
     "metadata": {},
     "output_type": "execute_result"
    }
   ],
   "source": [
    "dist19 = one_fam_1year.loc[one_fam_1year['SchoolDist']==19.0]\n",
    "dist19_mean = dist19['SP/Sq_ft'].mean()\n",
    "dist19_mean"
   ]
  },
  {
   "cell_type": "code",
   "execution_count": 103,
   "metadata": {},
   "outputs": [
    {
     "data": {
      "text/html": [
       "<div>\n",
       "<style scoped>\n",
       "    .dataframe tbody tr th:only-of-type {\n",
       "        vertical-align: middle;\n",
       "    }\n",
       "\n",
       "    .dataframe tbody tr th {\n",
       "        vertical-align: top;\n",
       "    }\n",
       "\n",
       "    .dataframe thead th {\n",
       "        text-align: right;\n",
       "    }\n",
       "</style>\n",
       "<table border=\"1\" class=\"dataframe\">\n",
       "  <thead>\n",
       "    <tr style=\"text-align: right;\">\n",
       "      <th></th>\n",
       "      <th>neighborhood</th>\n",
       "      <th>year_of_sale</th>\n",
       "      <th>SchoolDist</th>\n",
       "      <th>SP/Sq_ft</th>\n",
       "    </tr>\n",
       "  </thead>\n",
       "  <tbody>\n",
       "    <tr>\n",
       "      <td>0</td>\n",
       "      <td>WILLIAMSBURG-SOUTH</td>\n",
       "      <td>2017</td>\n",
       "      <td>14.0</td>\n",
       "      <td>1743.498818</td>\n",
       "    </tr>\n",
       "    <tr>\n",
       "      <td>3</td>\n",
       "      <td>RED HOOK</td>\n",
       "      <td>2017</td>\n",
       "      <td>15.0</td>\n",
       "      <td>1024.583608</td>\n",
       "    </tr>\n",
       "    <tr>\n",
       "      <td>4</td>\n",
       "      <td>SUNSET PARK</td>\n",
       "      <td>2017</td>\n",
       "      <td>15.0</td>\n",
       "      <td>1102.000000</td>\n",
       "    </tr>\n",
       "    <tr>\n",
       "      <td>7</td>\n",
       "      <td>OCEAN PARKWAY-SOUTH</td>\n",
       "      <td>2017</td>\n",
       "      <td>21.0</td>\n",
       "      <td>1701.732673</td>\n",
       "    </tr>\n",
       "    <tr>\n",
       "      <td>8</td>\n",
       "      <td>RED HOOK</td>\n",
       "      <td>2017</td>\n",
       "      <td>15.0</td>\n",
       "      <td>1038.095238</td>\n",
       "    </tr>\n",
       "    <tr>\n",
       "      <td>...</td>\n",
       "      <td>...</td>\n",
       "      <td>...</td>\n",
       "      <td>...</td>\n",
       "      <td>...</td>\n",
       "    </tr>\n",
       "    <tr>\n",
       "      <td>6063</td>\n",
       "      <td>FLATBUSH-NORTH</td>\n",
       "      <td>2017</td>\n",
       "      <td>18.0</td>\n",
       "      <td>96.153846</td>\n",
       "    </tr>\n",
       "    <tr>\n",
       "      <td>6065</td>\n",
       "      <td>RED HOOK</td>\n",
       "      <td>2017</td>\n",
       "      <td>15.0</td>\n",
       "      <td>116.610000</td>\n",
       "    </tr>\n",
       "    <tr>\n",
       "      <td>6072</td>\n",
       "      <td>CROWN HEIGHTS</td>\n",
       "      <td>2017</td>\n",
       "      <td>17.0</td>\n",
       "      <td>95.486111</td>\n",
       "    </tr>\n",
       "    <tr>\n",
       "      <td>6073</td>\n",
       "      <td>FLATLANDS</td>\n",
       "      <td>2017</td>\n",
       "      <td>22.0</td>\n",
       "      <td>64.516129</td>\n",
       "    </tr>\n",
       "    <tr>\n",
       "      <td>6076</td>\n",
       "      <td>FLATBUSH-EAST</td>\n",
       "      <td>2017</td>\n",
       "      <td>22.0</td>\n",
       "      <td>113.539446</td>\n",
       "    </tr>\n",
       "  </tbody>\n",
       "</table>\n",
       "<p>1807 rows × 4 columns</p>\n",
       "</div>"
      ],
      "text/plain": [
       "             neighborhood  year_of_sale  SchoolDist     SP/Sq_ft\n",
       "0      WILLIAMSBURG-SOUTH          2017        14.0  1743.498818\n",
       "3                RED HOOK          2017        15.0  1024.583608\n",
       "4             SUNSET PARK          2017        15.0  1102.000000\n",
       "7     OCEAN PARKWAY-SOUTH          2017        21.0  1701.732673\n",
       "8                RED HOOK          2017        15.0  1038.095238\n",
       "...                   ...           ...         ...          ...\n",
       "6063       FLATBUSH-NORTH          2017        18.0    96.153846\n",
       "6065             RED HOOK          2017        15.0   116.610000\n",
       "6072        CROWN HEIGHTS          2017        17.0    95.486111\n",
       "6073            FLATLANDS          2017        22.0    64.516129\n",
       "6076        FLATBUSH-EAST          2017        22.0   113.539446\n",
       "\n",
       "[1807 rows x 4 columns]"
      ]
     },
     "execution_count": 103,
     "metadata": {},
     "output_type": "execute_result"
    }
   ],
   "source": [
    "new_one_fam_1year = one_fam_1year.loc[(one_fam_1year['SchoolDist']==20.0)|\n",
    "                                      (one_fam_1year['SchoolDist']==15.0)|\n",
    "                                      (one_fam_1year['SchoolDist']==22.0)|\n",
    "                                      (one_fam_1year['SchoolDist']==21.0)|\n",
    "                                      (one_fam_1year['SchoolDist']==17.0)|\n",
    "                                      (one_fam_1year['SchoolDist']==32.0)|\n",
    "                                      (one_fam_1year['SchoolDist']==14.0)|\n",
    "                                      (one_fam_1year['SchoolDist']==13.0)|\n",
    "                                      (one_fam_1year['SchoolDist']==18.0)\n",
    "                                     ]\n",
    "new_one_fam_1year"
   ]
  },
  {
   "cell_type": "code",
   "execution_count": null,
   "metadata": {},
   "outputs": [],
   "source": []
  },
  {
   "cell_type": "code",
   "execution_count": 104,
   "metadata": {},
   "outputs": [
    {
     "data": {
      "image/png": "[encoded data removed]",
      "text/plain": [
       "<Figure size 1440x432 with 1 Axes>"
      ]
     },
     "metadata": {
      "needs_background": "light"
     },
     "output_type": "display_data"
    }
   ],
   "source": [
    "var = new_one_fam_1year[\"SchoolDist\"]\n",
    "SP = new_one_fam_1year[\"SP/Sq_ft\"]\n",
    "data = pd.concat([SP, var], axis=1)\n",
    "f, ax = plt.subplots(figsize=(20, 6))\n",
    "fig = sns.boxplot(x=var, y=SP, data=data)\n",
    "fig.axis(ymin=0, ymax=3300);\n",
    "plt.title('Sale Price Per Sqaure Footage In Top Ten School Districts')\n",
    "plt.savefig(\"DistSchool.png\")\n",
    "plt.show()"
   ]
  },
  {
   "cell_type": "code",
   "execution_count": 105,
   "metadata": {},
   "outputs": [],
   "source": [
    "x_axis = ['dist20','dist15','dist22','dist21','dist17','dist32','dist14',\n",
    "                      'dist13 ','dist18','dist19']"
   ]
  },
  {
   "cell_type": "code",
   "execution_count": 106,
   "metadata": {},
   "outputs": [],
   "source": [
    "y_axis = [dist20_mean,\n",
    "                                dist15_mean,\n",
    "                                dist22_mean,\n",
    "                               dist21_mean,\n",
    "                                dist17_mean,\n",
    "                               dist32_mean,\n",
    "                               dist14_mean,\n",
    "                               dist13_mean,\n",
    "                               dist18_mean,\n",
    "                               dist19_mean]"
   ]
  },
  {
   "cell_type": "code",
   "execution_count": 109,
   "metadata": {},
   "outputs": [
    {
     "data": {
      "image/png": "[encoded data removed]",
      "text/plain": [
       "<Figure size 432x288 with 1 Axes>"
      ]
     },
     "metadata": {
      "needs_background": "light"
     },
     "output_type": "display_data"
    }
   ],
   "source": [
    "plt.bar(x_axis,y_axis,color = 'r', alpha = 0.5, align = 'center')\n",
    "plt.xticks(rotation = 'vertical')\n",
    "plt.xlabel('School District')\n",
    "plt.ylabel('Average Sale Price/Square')\n",
    "plt.title('Average Sale Price/Square In Top 10 School Districts')\n",
    "plt.savefig(\"AvgSalePrice.png\")\n",
    "plt.ylim(0,1500)\n",
    "plt.show()"
   ]
  },
  {
   "cell_type": "code",
   "execution_count": null,
   "metadata": {},
   "outputs": [],
   "source": []
  }
 ],
 "metadata": {
  "kernelspec": {
   "display_name": "Python 3",
   "language": "python",
   "name": "python3"
  },
  "language_info": {
   "codemirror_mode": {
    "name": "ipython",
    "version": 3
   },
   "file_extension": ".py",
   "mimetype": "text/x-python",
   "name": "python",
   "nbconvert_exporter": "python",
   "pygments_lexer": "ipython3",
   "version": "3.7.4"
  }
 },
 "nbformat": 4,
 "nbformat_minor": 2
}
