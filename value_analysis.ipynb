{
 "cells": [
  {
   "cell_type": "code",
   "execution_count": 1,
   "metadata": {},
   "outputs": [],
   "source": [
    "import matplotlib.pyplot as plt\n",
    "import pandas as pd\n",
    "import numpy as np\n",
    "import seaborn as sns\n",
    "import requests\n",
    "import time\n",
    "import seaborn as sns\n",
    "import numpy as np\n",
    "from scipy.stats import norm\n",
    "from sklearn.preprocessing import StandardScaler\n",
    "from scipy import stats\n",
    "import exp"
   ]
  },
  {
   "cell_type": "code",
   "execution_count": 2,
   "metadata": {},
   "outputs": [
    {
     "data": {
      "text/html": [
       "<div>\n",
       "<style scoped>\n",
       "    .dataframe tbody tr th:only-of-type {\n",
       "        vertical-align: middle;\n",
       "    }\n",
       "\n",
       "    .dataframe tbody tr th {\n",
       "        vertical-align: top;\n",
       "    }\n",
       "\n",
       "    .dataframe thead th {\n",
       "        text-align: right;\n",
       "    }\n",
       "</style>\n",
       "<table border=\"1\" class=\"dataframe\">\n",
       "  <thead>\n",
       "    <tr style=\"text-align: right;\">\n",
       "      <th></th>\n",
       "      <th>building_class_category</th>\n",
       "      <th>sale_price</th>\n",
       "      <th>gross_sqft</th>\n",
       "      <th>year_of_sale</th>\n",
       "      <th>year_built</th>\n",
       "      <th>ZipCode</th>\n",
       "      <th>neighborhood</th>\n",
       "      <th>residential_units</th>\n",
       "      <th>SchoolDist</th>\n",
       "      <th>BldgClass</th>\n",
       "      <th>YearAlter1</th>\n",
       "      <th>YearAlter2</th>\n",
       "      <th>LotArea</th>\n",
       "      <th>ResArea</th>\n",
       "      <th>UnitsRes</th>\n",
       "      <th>NumFloors</th>\n",
       "      <th>SP/Sq_ft</th>\n",
       "    </tr>\n",
       "  </thead>\n",
       "  <tbody>\n",
       "    <tr>\n",
       "      <td>0</td>\n",
       "      <td>01 ONE FAMILY HOMES</td>\n",
       "      <td>2950000.0</td>\n",
       "      <td>1692.0</td>\n",
       "      <td>2017</td>\n",
       "      <td>2014</td>\n",
       "      <td>11249.0</td>\n",
       "      <td>WILLIAMSBURG-SOUTH</td>\n",
       "      <td>1</td>\n",
       "      <td>14.0</td>\n",
       "      <td>A5</td>\n",
       "      <td>2013.0</td>\n",
       "      <td>0.0</td>\n",
       "      <td>1279.0</td>\n",
       "      <td>1692.0</td>\n",
       "      <td>1.0</td>\n",
       "      <td>3.0</td>\n",
       "      <td>1743.498818</td>\n",
       "    </tr>\n",
       "    <tr>\n",
       "      <td>1</td>\n",
       "      <td>01 ONE FAMILY HOMES</td>\n",
       "      <td>2930000.0</td>\n",
       "      <td>1476.0</td>\n",
       "      <td>2016</td>\n",
       "      <td>1920</td>\n",
       "      <td>11209.0</td>\n",
       "      <td>BAY RIDGE</td>\n",
       "      <td>1</td>\n",
       "      <td>20.0</td>\n",
       "      <td>A3</td>\n",
       "      <td>0.0</td>\n",
       "      <td>0.0</td>\n",
       "      <td>7000.0</td>\n",
       "      <td>1476.0</td>\n",
       "      <td>1.0</td>\n",
       "      <td>2.0</td>\n",
       "      <td>1985.094851</td>\n",
       "    </tr>\n",
       "    <tr>\n",
       "      <td>2</td>\n",
       "      <td>01 ONE FAMILY HOMES</td>\n",
       "      <td>2900000.0</td>\n",
       "      <td>1152.0</td>\n",
       "      <td>2016</td>\n",
       "      <td>1920</td>\n",
       "      <td>11211.0</td>\n",
       "      <td>WILLIAMSBURG-EAST</td>\n",
       "      <td>1</td>\n",
       "      <td>14.0</td>\n",
       "      <td>A5</td>\n",
       "      <td>2006.0</td>\n",
       "      <td>0.0</td>\n",
       "      <td>2500.0</td>\n",
       "      <td>1152.0</td>\n",
       "      <td>1.0</td>\n",
       "      <td>3.0</td>\n",
       "      <td>2517.361111</td>\n",
       "    </tr>\n",
       "    <tr>\n",
       "      <td>3</td>\n",
       "      <td>01 ONE FAMILY HOMES</td>\n",
       "      <td>2800187.0</td>\n",
       "      <td>2733.0</td>\n",
       "      <td>2017</td>\n",
       "      <td>2016</td>\n",
       "      <td>11231.0</td>\n",
       "      <td>RED HOOK</td>\n",
       "      <td>1</td>\n",
       "      <td>15.0</td>\n",
       "      <td>A5</td>\n",
       "      <td>0.0</td>\n",
       "      <td>0.0</td>\n",
       "      <td>1752.0</td>\n",
       "      <td>2733.0</td>\n",
       "      <td>1.0</td>\n",
       "      <td>3.0</td>\n",
       "      <td>1024.583608</td>\n",
       "    </tr>\n",
       "    <tr>\n",
       "      <td>4</td>\n",
       "      <td>01 ONE FAMILY HOMES</td>\n",
       "      <td>2755000.0</td>\n",
       "      <td>2500.0</td>\n",
       "      <td>2017</td>\n",
       "      <td>1901</td>\n",
       "      <td>11215.0</td>\n",
       "      <td>SUNSET PARK</td>\n",
       "      <td>1</td>\n",
       "      <td>15.0</td>\n",
       "      <td>A5</td>\n",
       "      <td>2015.0</td>\n",
       "      <td>0.0</td>\n",
       "      <td>2504.0</td>\n",
       "      <td>2500.0</td>\n",
       "      <td>1.0</td>\n",
       "      <td>3.0</td>\n",
       "      <td>1102.000000</td>\n",
       "    </tr>\n",
       "  </tbody>\n",
       "</table>\n",
       "</div>"
      ],
      "text/plain": [
       "  building_class_category  sale_price  gross_sqft  year_of_sale  year_built  \\\n",
       "0     01 ONE FAMILY HOMES   2950000.0      1692.0          2017        2014   \n",
       "1     01 ONE FAMILY HOMES   2930000.0      1476.0          2016        1920   \n",
       "2     01 ONE FAMILY HOMES   2900000.0      1152.0          2016        1920   \n",
       "3     01 ONE FAMILY HOMES   2800187.0      2733.0          2017        2016   \n",
       "4     01 ONE FAMILY HOMES   2755000.0      2500.0          2017        1901   \n",
       "\n",
       "   ZipCode        neighborhood  residential_units  SchoolDist BldgClass  \\\n",
       "0  11249.0  WILLIAMSBURG-SOUTH                  1        14.0        A5   \n",
       "1  11209.0           BAY RIDGE                  1        20.0        A3   \n",
       "2  11211.0   WILLIAMSBURG-EAST                  1        14.0        A5   \n",
       "3  11231.0            RED HOOK                  1        15.0        A5   \n",
       "4  11215.0         SUNSET PARK                  1        15.0        A5   \n",
       "\n",
       "   YearAlter1  YearAlter2  LotArea  ResArea  UnitsRes  NumFloors     SP/Sq_ft  \n",
       "0      2013.0         0.0   1279.0   1692.0       1.0        3.0  1743.498818  \n",
       "1         0.0         0.0   7000.0   1476.0       1.0        2.0  1985.094851  \n",
       "2      2006.0         0.0   2500.0   1152.0       1.0        3.0  2517.361111  \n",
       "3         0.0         0.0   1752.0   2733.0       1.0        3.0  1024.583608  \n",
       "4      2015.0         0.0   2504.0   2500.0       1.0        3.0  1102.000000  "
      ]
     },
     "execution_count": 2,
     "metadata": {},
     "output_type": "execute_result"
    }
   ],
   "source": [
    "file = \"bk_one_fam.csv\"\n",
    "one_fam_3years = pd.read_csv(file)\n",
    "one_fam_3years = one_fam_3years.drop(columns=['Unnamed: 0', 'Unnamed: 0.1' ])\n",
    "one_fam_3years.head()\n"
   ]
  },
  {
   "cell_type": "code",
   "execution_count": 14,
   "metadata": {},
   "outputs": [
    {
     "data": {
      "text/html": [
       "<div>\n",
       "<style scoped>\n",
       "    .dataframe tbody tr th:only-of-type {\n",
       "        vertical-align: middle;\n",
       "    }\n",
       "\n",
       "    .dataframe tbody tr th {\n",
       "        vertical-align: top;\n",
       "    }\n",
       "\n",
       "    .dataframe thead th {\n",
       "        text-align: right;\n",
       "    }\n",
       "</style>\n",
       "<table border=\"1\" class=\"dataframe\">\n",
       "  <thead>\n",
       "    <tr style=\"text-align: right;\">\n",
       "      <th></th>\n",
       "      <th>neighborhood</th>\n",
       "      <th>year_of_sale</th>\n",
       "      <th>SchoolDist</th>\n",
       "      <th>SP/Sq_ft</th>\n",
       "    </tr>\n",
       "  </thead>\n",
       "  <tbody>\n",
       "    <tr>\n",
       "      <td>0</td>\n",
       "      <td>WILLIAMSBURG-SOUTH</td>\n",
       "      <td>2017</td>\n",
       "      <td>14.0</td>\n",
       "      <td>1743.498818</td>\n",
       "    </tr>\n",
       "    <tr>\n",
       "      <td>1</td>\n",
       "      <td>BAY RIDGE</td>\n",
       "      <td>2016</td>\n",
       "      <td>20.0</td>\n",
       "      <td>1985.094851</td>\n",
       "    </tr>\n",
       "    <tr>\n",
       "      <td>2</td>\n",
       "      <td>WILLIAMSBURG-EAST</td>\n",
       "      <td>2016</td>\n",
       "      <td>14.0</td>\n",
       "      <td>2517.361111</td>\n",
       "    </tr>\n",
       "    <tr>\n",
       "      <td>3</td>\n",
       "      <td>RED HOOK</td>\n",
       "      <td>2017</td>\n",
       "      <td>15.0</td>\n",
       "      <td>1024.583608</td>\n",
       "    </tr>\n",
       "    <tr>\n",
       "      <td>4</td>\n",
       "      <td>SUNSET PARK</td>\n",
       "      <td>2017</td>\n",
       "      <td>15.0</td>\n",
       "      <td>1102.000000</td>\n",
       "    </tr>\n",
       "  </tbody>\n",
       "</table>\n",
       "</div>"
      ],
      "text/plain": [
       "         neighborhood  year_of_sale  SchoolDist     SP/Sq_ft\n",
       "0  WILLIAMSBURG-SOUTH          2017        14.0  1743.498818\n",
       "1           BAY RIDGE          2016        20.0  1985.094851\n",
       "2   WILLIAMSBURG-EAST          2016        14.0  2517.361111\n",
       "3            RED HOOK          2017        15.0  1024.583608\n",
       "4         SUNSET PARK          2017        15.0  1102.000000"
      ]
     },
     "execution_count": 14,
     "metadata": {},
     "output_type": "execute_result"
    }
   ],
   "source": [
    "one_fam_3years_brief = one_fam_3years[['neighborhood','year_of_sale','SchoolDist','SP/Sq_ft']]\n",
    "one_fam_3years_brief.head()"
   ]
  },
  {
   "cell_type": "code",
   "execution_count": 17,
   "metadata": {},
   "outputs": [
    {
     "data": {
      "text/html": [
       "<div>\n",
       "<style scoped>\n",
       "    .dataframe tbody tr th:only-of-type {\n",
       "        vertical-align: middle;\n",
       "    }\n",
       "\n",
       "    .dataframe tbody tr th {\n",
       "        vertical-align: top;\n",
       "    }\n",
       "\n",
       "    .dataframe thead th {\n",
       "        text-align: right;\n",
       "    }\n",
       "</style>\n",
       "<table border=\"1\" class=\"dataframe\">\n",
       "  <thead>\n",
       "    <tr style=\"text-align: right;\">\n",
       "      <th></th>\n",
       "      <th>neighborhood</th>\n",
       "      <th>year_of_sale</th>\n",
       "      <th>SchoolDist</th>\n",
       "      <th>SP/Sq_ft</th>\n",
       "    </tr>\n",
       "  </thead>\n",
       "  <tbody>\n",
       "    <tr>\n",
       "      <td>0</td>\n",
       "      <td>WILLIAMSBURG-SOUTH</td>\n",
       "      <td>2017</td>\n",
       "      <td>14.0</td>\n",
       "      <td>1743.498818</td>\n",
       "    </tr>\n",
       "    <tr>\n",
       "      <td>3</td>\n",
       "      <td>RED HOOK</td>\n",
       "      <td>2017</td>\n",
       "      <td>15.0</td>\n",
       "      <td>1024.583608</td>\n",
       "    </tr>\n",
       "    <tr>\n",
       "      <td>4</td>\n",
       "      <td>SUNSET PARK</td>\n",
       "      <td>2017</td>\n",
       "      <td>15.0</td>\n",
       "      <td>1102.000000</td>\n",
       "    </tr>\n",
       "    <tr>\n",
       "      <td>7</td>\n",
       "      <td>OCEAN PARKWAY-SOUTH</td>\n",
       "      <td>2017</td>\n",
       "      <td>21.0</td>\n",
       "      <td>1701.732673</td>\n",
       "    </tr>\n",
       "    <tr>\n",
       "      <td>8</td>\n",
       "      <td>RED HOOK</td>\n",
       "      <td>2017</td>\n",
       "      <td>15.0</td>\n",
       "      <td>1038.095238</td>\n",
       "    </tr>\n",
       "  </tbody>\n",
       "</table>\n",
       "</div>"
      ],
      "text/plain": [
       "          neighborhood  year_of_sale  SchoolDist     SP/Sq_ft\n",
       "0   WILLIAMSBURG-SOUTH          2017        14.0  1743.498818\n",
       "3             RED HOOK          2017        15.0  1024.583608\n",
       "4          SUNSET PARK          2017        15.0  1102.000000\n",
       "7  OCEAN PARKWAY-SOUTH          2017        21.0  1701.732673\n",
       "8             RED HOOK          2017        15.0  1038.095238"
      ]
     },
     "execution_count": 17,
     "metadata": {},
     "output_type": "execute_result"
    }
   ],
   "source": [
    "one_fam_1year = one_fam_3years_brief.loc[ (one_fam_3years_brief['year_of_sale'] == 2017 )]\n",
    "one_fam_1year.head()"
   ]
  },
  {
   "cell_type": "code",
   "execution_count": 50,
   "metadata": {},
   "outputs": [
    {
     "data": {
      "text/plain": [
       "1076.0233918128656"
      ]
     },
     "execution_count": 50,
     "metadata": {},
     "output_type": "execute_result"
    }
   ],
   "source": [
    "carroll_gardens = one_fam_1year.loc[one_fam_1year['neighborhood']=='CARROLL GARDENS']\n",
    "carroll_gardens_mean = carroll_gardens['SP/Sq_ft'].mean()\n",
    "carroll_gardens_mean"
   ]
  },
  {
   "cell_type": "code",
   "execution_count": 51,
   "metadata": {},
   "outputs": [
    {
     "data": {
      "text/plain": [
       "893.2647259039765"
      ]
     },
     "execution_count": 51,
     "metadata": {},
     "output_type": "execute_result"
    }
   ],
   "source": [
    "park_slope = one_fam_1year.loc[one_fam_1year['neighborhood']=='PARK SLOPE']\n",
    "park_slope_mean = park_slope['SP/Sq_ft'].mean()\n",
    "park_slope_mean"
   ]
  },
  {
   "cell_type": "code",
   "execution_count": 52,
   "metadata": {},
   "outputs": [
    {
     "data": {
      "text/plain": [
       "nan"
      ]
     },
     "execution_count": 52,
     "metadata": {},
     "output_type": "execute_result"
    }
   ],
   "source": [
    "south_slope = one_fam_1year.loc[one_fam_1year['neighborhood']=='SOUTH SLOPE']\n",
    "south_slope_mean = south_slope['SP/Sq_ft'].mean()\n",
    "south_slope_mean"
   ]
  },
  {
   "cell_type": "code",
   "execution_count": 53,
   "metadata": {},
   "outputs": [
    {
     "data": {
      "text/plain": [
       "2120.7967836257308"
      ]
     },
     "execution_count": 53,
     "metadata": {},
     "output_type": "execute_result"
    }
   ],
   "source": [
    "boerum_hill = one_fam_1year.loc[one_fam_1year['neighborhood']=='BOERUM HILL']\n",
    "boerum_hill_mean = boerum_hill['SP/Sq_ft'].mean()\n",
    "boerum_hill_mean"
   ]
  },
  {
   "cell_type": "code",
   "execution_count": 54,
   "metadata": {},
   "outputs": [
    {
     "data": {
      "text/plain": [
       "645.5573436882628"
      ]
     },
     "execution_count": 54,
     "metadata": {},
     "output_type": "execute_result"
    }
   ],
   "source": [
    "borough_park = one_fam_1year.loc[one_fam_1year['neighborhood']=='BOROUGH PARK']\n",
    "borough_park_mean = borough_park['SP/Sq_ft'].mean()\n",
    "borough_park_mean"
   ]
  },
  {
   "cell_type": "code",
   "execution_count": 55,
   "metadata": {},
   "outputs": [
    {
     "data": {
      "text/plain": [
       "695.5657130686182"
      ]
     },
     "execution_count": 55,
     "metadata": {},
     "output_type": "execute_result"
    }
   ],
   "source": [
    "bath_beach = one_fam_1year.loc[one_fam_1year['neighborhood']=='BATH BEACH']\n",
    "bath_beach_mean = bath_beach['SP/Sq_ft'].mean()\n",
    "bath_beach_mean"
   ]
  },
  {
   "cell_type": "code",
   "execution_count": 66,
   "metadata": {},
   "outputs": [
    {
     "data": {
      "text/plain": [
       "673.9706950097217"
      ]
     },
     "execution_count": 66,
     "metadata": {},
     "output_type": "execute_result"
    }
   ],
   "source": [
    "bay_ridge = one_fam_1year.loc[one_fam_1year['neighborhood']=='BAY RIDGE']\n",
    "bay_ridge_mean = bay_ridge['SP/Sq_ft'].mean()\n",
    "bay_ridge_mean"
   ]
  },
  {
   "cell_type": "code",
   "execution_count": 57,
   "metadata": {},
   "outputs": [
    {
     "data": {
      "text/plain": [
       "1148.6486486486488"
      ]
     },
     "execution_count": 57,
     "metadata": {},
     "output_type": "execute_result"
    }
   ],
   "source": [
    "clinton_hill = one_fam_1year.loc[one_fam_1year['neighborhood']=='CLINTON HILL']\n",
    "clinton_hill_mean = clinton_hill['SP/Sq_ft'].mean()\n",
    "clinton_hill_mean"
   ]
  },
  {
   "cell_type": "code",
   "execution_count": 58,
   "metadata": {},
   "outputs": [
    {
     "data": {
      "text/plain": [
       "627.3070577109243"
      ]
     },
     "execution_count": 58,
     "metadata": {},
     "output_type": "execute_result"
    }
   ],
   "source": [
    "dyker_heights = one_fam_1year.loc[one_fam_1year['neighborhood']=='DYKER HEIGHTS']\n",
    "dyker_heights_mean = dyker_heights['SP/Sq_ft'].mean()\n",
    "dyker_heights_mean"
   ]
  },
  {
   "cell_type": "code",
   "execution_count": 71,
   "metadata": {},
   "outputs": [
    {
     "data": {
      "text/plain": [
       "646.8887979114199"
      ]
     },
     "execution_count": 71,
     "metadata": {},
     "output_type": "execute_result"
    }
   ],
   "source": [
    "bensonhurst = one_fam_1year.loc[one_fam_1year['neighborhood']=='BENSONHURST']\n",
    "bensonhurst_mean = bensonhurst['SP/Sq_ft'].mean()\n",
    "bensonhurst_mean"
   ]
  },
  {
   "cell_type": "code",
   "execution_count": 36,
   "metadata": {},
   "outputs": [
    {
     "data": {
      "text/html": [
       "<div>\n",
       "<style scoped>\n",
       "    .dataframe tbody tr th:only-of-type {\n",
       "        vertical-align: middle;\n",
       "    }\n",
       "\n",
       "    .dataframe tbody tr th {\n",
       "        vertical-align: top;\n",
       "    }\n",
       "\n",
       "    .dataframe thead th {\n",
       "        text-align: right;\n",
       "    }\n",
       "</style>\n",
       "<table border=\"1\" class=\"dataframe\">\n",
       "  <thead>\n",
       "    <tr style=\"text-align: right;\">\n",
       "      <th></th>\n",
       "      <th>neighborhood</th>\n",
       "      <th>year_of_sale</th>\n",
       "      <th>SchoolDist</th>\n",
       "      <th>SP/Sq_ft</th>\n",
       "    </tr>\n",
       "  </thead>\n",
       "  <tbody>\n",
       "    <tr>\n",
       "      <td>20</td>\n",
       "      <td>BOERUM HILL</td>\n",
       "      <td>2017</td>\n",
       "      <td>15.0</td>\n",
       "      <td>3026.315789</td>\n",
       "    </tr>\n",
       "    <tr>\n",
       "      <td>29</td>\n",
       "      <td>CLINTON HILL</td>\n",
       "      <td>2017</td>\n",
       "      <td>13.0</td>\n",
       "      <td>1148.648649</td>\n",
       "    </tr>\n",
       "    <tr>\n",
       "      <td>33</td>\n",
       "      <td>BOROUGH PARK</td>\n",
       "      <td>2017</td>\n",
       "      <td>20.0</td>\n",
       "      <td>1608.974359</td>\n",
       "    </tr>\n",
       "    <tr>\n",
       "      <td>44</td>\n",
       "      <td>PARK SLOPE</td>\n",
       "      <td>2017</td>\n",
       "      <td>15.0</td>\n",
       "      <td>1097.285068</td>\n",
       "    </tr>\n",
       "    <tr>\n",
       "      <td>46</td>\n",
       "      <td>CARROLL GARDENS</td>\n",
       "      <td>2017</td>\n",
       "      <td>15.0</td>\n",
       "      <td>1406.432749</td>\n",
       "    </tr>\n",
       "    <tr>\n",
       "      <td>...</td>\n",
       "      <td>...</td>\n",
       "      <td>...</td>\n",
       "      <td>...</td>\n",
       "      <td>...</td>\n",
       "    </tr>\n",
       "    <tr>\n",
       "      <td>5389</td>\n",
       "      <td>BOROUGH PARK</td>\n",
       "      <td>2017</td>\n",
       "      <td>15.0</td>\n",
       "      <td>290.798611</td>\n",
       "    </tr>\n",
       "    <tr>\n",
       "      <td>5524</td>\n",
       "      <td>BENSONHURST</td>\n",
       "      <td>2017</td>\n",
       "      <td>20.0</td>\n",
       "      <td>223.658926</td>\n",
       "    </tr>\n",
       "    <tr>\n",
       "      <td>5818</td>\n",
       "      <td>DYKER HEIGHTS</td>\n",
       "      <td>2017</td>\n",
       "      <td>20.0</td>\n",
       "      <td>145.408163</td>\n",
       "    </tr>\n",
       "    <tr>\n",
       "      <td>5868</td>\n",
       "      <td>BAY RIDGE</td>\n",
       "      <td>2017</td>\n",
       "      <td>20.0</td>\n",
       "      <td>79.485238</td>\n",
       "    </tr>\n",
       "    <tr>\n",
       "      <td>5962</td>\n",
       "      <td>BOROUGH PARK</td>\n",
       "      <td>2017</td>\n",
       "      <td>20.0</td>\n",
       "      <td>87.174431</td>\n",
       "    </tr>\n",
       "  </tbody>\n",
       "</table>\n",
       "<p>290 rows × 4 columns</p>\n",
       "</div>"
      ],
      "text/plain": [
       "         neighborhood  year_of_sale  SchoolDist     SP/Sq_ft\n",
       "20        BOERUM HILL          2017        15.0  3026.315789\n",
       "29       CLINTON HILL          2017        13.0  1148.648649\n",
       "33       BOROUGH PARK          2017        20.0  1608.974359\n",
       "44         PARK SLOPE          2017        15.0  1097.285068\n",
       "46    CARROLL GARDENS          2017        15.0  1406.432749\n",
       "...               ...           ...         ...          ...\n",
       "5389     BOROUGH PARK          2017        15.0   290.798611\n",
       "5524      BENSONHURST          2017        20.0   223.658926\n",
       "5818    DYKER HEIGHTS          2017        20.0   145.408163\n",
       "5868        BAY RIDGE          2017        20.0    79.485238\n",
       "5962     BOROUGH PARK          2017        20.0    87.174431\n",
       "\n",
       "[290 rows x 4 columns]"
      ]
     },
     "execution_count": 36,
     "metadata": {},
     "output_type": "execute_result"
    }
   ],
   "source": [
    "new_one_fam_1year = one_fam_1year.loc[(one_fam_1year['neighborhood']=='CARROLL GARDENS') |\n",
    "                                     (one_fam_1year['neighborhood']=='PARK SLOPE')|\n",
    "                                     (one_fam_1year['neighborhood']=='SOUTH SLOPE')|\n",
    "                                     (one_fam_1year['neighborhood']=='BOERUM HILL')|\n",
    "                                     (one_fam_1year['neighborhood']=='BOROUGH PARK')|\n",
    "                                     (one_fam_1year['neighborhood']=='BATH BEACH')|\n",
    "                                      (one_fam_1year['neighborhood']=='BAY RIDGE')|\n",
    "                                      (one_fam_1year['neighborhood']=='CLINTON HILL')|\n",
    "                                      (one_fam_1year['neighborhood']=='DYKER HEIGHTS')|\n",
    "                                      (one_fam_1year['neighborhood']=='BENSONHURST')\n",
    "                                     ]\n",
    "new_one_fam_1year"
   ]
  },
  {
   "cell_type": "code",
   "execution_count": 44,
   "metadata": {},
   "outputs": [
    {
     "data": {
      "image/png": "[encoded data removed]",
      "text/plain": [
       "<Figure size 1440x432 with 1 Axes>"
      ]
     },
     "metadata": {
      "needs_background": "light"
     },
     "output_type": "display_data"
    }
   ],
   "source": [
    "var = new_one_fam_1year[\"neighborhood\"]\n",
    "SP = new_one_fam_1year[\"SP/Sq_ft\"]\n",
    "data = pd.concat([SP, var], axis=1)\n",
    "f, ax = plt.subplots(figsize=(20, 6))\n",
    "fig = sns.boxplot(x=var, y=SP, data=data)\n",
    "fig.axis(ymin=0, ymax=3300);\n",
    "plt.title('Sale Price Per Sqaure Footage In Top Ten School Districts')\n",
    "plt.savefig(\"NeighborhoodnSchool.png\")\n",
    "plt.show()"
   ]
  },
  {
   "cell_type": "code",
   "execution_count": 76,
   "metadata": {},
   "outputs": [],
   "source": [
    "x_axis = ['Carroll Gardens','Park Slope','South Slope','Boerum Hill','Borough Park','Bath Beach','Bay Ridge',\n",
    "                      'Clinton Hill','Dyker Heights','Bensonhurst']\n"
   ]
  },
  {
   "cell_type": "code",
   "execution_count": 77,
   "metadata": {},
   "outputs": [],
   "source": [
    "y_axis = [carroll_gardens_mean,\n",
    "                                park_slope_mean,\n",
    "                                south_slope_mean,\n",
    "                               boerum_hill_mean,\n",
    "                                borough_park_mean,\n",
    "                               bath_beach_mean,\n",
    "                               bay_ridge_mean,\n",
    "                               clinton_hill_mean,\n",
    "                               dyker_heights_mean,\n",
    "                               bensonhurst_mean]\n"
   ]
  },
  {
   "cell_type": "code",
   "execution_count": 90,
   "metadata": {},
   "outputs": [
    {
     "data": {
      "image/png": "[encoded data removed]",
      "text/plain": [
       "<Figure size 432x288 with 1 Axes>"
      ]
     },
     "metadata": {
      "needs_background": "light"
     },
     "output_type": "display_data"
    }
   ],
   "source": [
    "plt.bar(x_axis,y_axis,color = 'r', alpha = 0.5, align = 'center')\n",
    "plt.xticks(rotation = 'vertical')\n",
    "plt.xlabel('Neighborhoods')\n",
    "plt.ylabel('Average Sale Price/Square')\n",
    "plt.title('Average Sale Price/Square In Top 10 Neighborhood')\n",
    "plt.savefig(\"AvgSalePrice.png\")\n",
    "plt.ylim(500,2200)\n",
    "plt.show()"
   ]
  },
  {
   "cell_type": "code",
   "execution_count": null,
   "metadata": {},
   "outputs": [],
   "source": []
  }
 ],
 "metadata": {
  "kernelspec": {
   "display_name": "Python 3",
   "language": "python",
   "name": "python3"
  },
  "language_info": {
   "codemirror_mode": {
    "name": "ipython",
    "version": 3
   },
   "file_extension": ".py",
   "mimetype": "text/x-python",
   "name": "python",
   "nbconvert_exporter": "python",
   "pygments_lexer": "ipython3",
   "version": "3.7.4"
  }
 },
 "nbformat": 4,
 "nbformat_minor": 2
}
